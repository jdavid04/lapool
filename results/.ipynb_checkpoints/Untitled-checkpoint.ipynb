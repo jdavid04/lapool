{
 "cells": [
  {
   "cell_type": "code",
   "execution_count": 1,
   "metadata": {},
   "outputs": [
    {
     "data": {
      "text/plain": [
       "1.3333333333333333"
      ]
     },
     "execution_count": 1,
     "metadata": {},
     "output_type": "execute_result"
    }
   ],
   "source": [
    "import torch\n",
    "import numpy as np\n",
    "\n",
    "S = np.asarray([[0,0,0, 1, 1], [1,1,1, 0,0]])\n",
    "\n",
    "y = np.array([1, 1, 0, 0, 0])\n",
    "ypred= np.array([1, 1,0, 0, 0])\n",
    "\n",
    "def p_x_g_k(S, i, j, k):\n",
    "    return S[k][i] * S[k][j] / np.sum(S[k])\n",
    "\n",
    "def score(S, y, ypred):\n",
    "    s = 0\n",
    "    for i in range(len(y)):\n",
    "        for j in range(len(ypred)):\n",
    "            for k in range(2):\n",
    "                s += p_x_g_k(S, i, j, k)*y[i]*ypred[j] \n",
    "    return s\n",
    "score(S, y, ypred)"
   ]
  },
  {
   "cell_type": "code",
   "execution_count": 99,
   "metadata": {},
   "outputs": [
    {
     "name": "stdout",
     "output_type": "stream",
     "text": [
      "The autoreload extension is already loaded. To reload it, use:\n",
      "  %reload_ext autoreload\n"
     ]
    }
   ],
   "source": [
    "%load_ext autoreload\n",
    "%autoreload 2\n",
    "import torch\n",
    "from molga.scoring import MolMetrics\n",
    "from molga.utils.data import smiles_to_mols\n",
    "from rdkit import Chem\n",
    "from rdkit.Chem.Draw import IPythonConsole #Needed to show molecules\n",
    "from rdkit.Chem.Draw.MolDrawing import MolDrawing, DrawingOptions #Only needed if modifying defaults\n",
    "from molga.generator.aae import AAE\n",
    "from molga.generator.networks import *\n",
    "from molga.utils.graph_utils import to_cuda\n",
    "from molga.utils import sanifix\n",
    "DrawingOptions.bondLineWidth=1.8"
   ]
  },
  {
   "cell_type": "code",
   "execution_count": 161,
   "metadata": {},
   "outputs": [],
   "source": [
    "import os"
   ]
  },
  {
   "cell_type": "code",
   "execution_count": 162,
   "metadata": {},
   "outputs": [],
   "source": [
    "from molga.configs import gen_model_getter, sup_model_getter\n",
    "\n",
    "def copy_edit_mols(mol, cp=False):\n",
    "    if not cp:\n",
    "        return mol\n",
    "    else:\n",
    "        Chem.rdmolops.Cleanup(mol)\n",
    "        mol = sanifix.fix_mol(mol)\n",
    "        return mol\n",
    "    \n",
    "def get_standard_model(model_path, id_number):\n",
    "    model_params = gen_model_getter(\"aae\", id_number)\n",
    "    print(model_params)\n",
    "    network = AAE(metrics={}, mse_loss=True)\n",
    "    encoder = Encoder(5, 128, nedges=3, feat_dim=12, gather=\"sum\", **model_params[\"encoder\"])\n",
    "    decoder = Decoder(128, 5, nedges=3, max_vertex=9, other_feat_dim=0, **model_params[\"decoder\"])\n",
    "    discriminator = MLPdiscriminator(128, **model_params[\"discriminator\"])\n",
    "    network.set_encoder(encoder)\n",
    "    network.set_decoder(decoder)\n",
    "    network.set_discriminator(discriminator)\n",
    "    checkpoint = torch.load(model_path, map_location=\"cpu\")\n",
    "    network.load_state_dict(checkpoint['model'])\n",
    "    gpu = checkpoint[\"gpu\"]\n",
    "    return network,  gpu\n",
    "\n",
    "def sample_molecules(model, n_mols=25000, batch_size=512, gpu=False, cp=False):\n",
    "        mols = []\n",
    "        if not batch_size:\n",
    "            batch_size = n_mols\n",
    "        n_sample = n_mols // batch_size\n",
    "        model.eval()\n",
    "        with torch.no_grad():\n",
    "            for k in range(n_sample):\n",
    "                z = self.model.sample(batch_size)\n",
    "                if gpu:\n",
    "                    z = to_cuda(z)\n",
    "                gen_data = model.forward_generator(z)\n",
    "                # Postprocess with Gumbel softmax\n",
    "                fake_data = model.postprocess(gen_data, hard=True, sample=True)\n",
    "                fake_mols, valids = data2mol(fake_data)\n",
    "                smiles = convert_mol_to_smiles([copy_edit(fake_mols[i], cp)  for i, val in valids if val])\n",
    "                mols.extend(smiles)\n",
    "        return mols"
   ]
  },
  {
   "cell_type": "code",
   "execution_count": 4,
   "metadata": {},
   "outputs": [],
   "source": [
    "#model, gpu =get_standard_model(\"GEN_RES/qm9_mlp_mse_1/AAE/model.epoch:17-loss:0.15.pth.tar\", 1)\n",
    "def weighted_choice(choices):\n",
    "    total = sum(w for c, w in choices)\n",
    "    r = random.uniform(0, total)\n",
    "    upto = 0\n",
    "    for c, w in choices:\n",
    "        if upto + w >= r:\n",
    "            return c\n",
    "        upto += w\n",
    "    assert False, \"Shouldn't get here\""
   ]
  },
  {
   "cell_type": "code",
   "execution_count": 6,
   "metadata": {},
   "outputs": [],
   "source": [
    "with open(\"../data/qm9/train.csv\") as REF:\n",
    "    ref_smiles = [x.strip() for x in REF]\n",
    "    ref_mols = smiles_to_mols(ref_smiles)"
   ]
  },
  {
   "cell_type": "code",
   "execution_count": 185,
   "metadata": {},
   "outputs": [],
   "source": [
    "seq = [ \"GEN_RES/qm9_mlp_mse_2/\", \"GEN_RES/qm9_mlp_diffpool/\", \"GEN_RES/qm9_mlp_gcn/\"]"
   ]
  },
  {
   "cell_type": "code",
   "execution_count": 188,
   "metadata": {},
   "outputs": [
    {
     "ename": "KeyboardInterrupt",
     "evalue": "",
     "output_type": "error",
     "traceback": [
      "\u001b[0;31m---------------------------------------------------------------------------\u001b[0m",
      "\u001b[0;31mValueError\u001b[0m                                Traceback (most recent call last)",
      "\u001b[0;32m~/Documents/Git/molga/molga/utils/sanifix.py\u001b[0m in \u001b[0;36mfix_mol\u001b[0;34m(m)\u001b[0m\n\u001b[1;32m    157\u001b[0m         \u001b[0;31m# cp = Chem.Mol(m.ToBinary())\u001b[0m\u001b[0;34m\u001b[0m\u001b[0;34m\u001b[0m\u001b[0;34m\u001b[0m\u001b[0m\n\u001b[0;32m--> 158\u001b[0;31m         \u001b[0mChem\u001b[0m\u001b[0;34m.\u001b[0m\u001b[0mSanitizeMol\u001b[0m\u001b[0;34m(\u001b[0m\u001b[0mm\u001b[0m\u001b[0;34m)\u001b[0m\u001b[0;34m\u001b[0m\u001b[0;34m\u001b[0m\u001b[0m\n\u001b[0m\u001b[1;32m    159\u001b[0m         \u001b[0;32mreturn\u001b[0m \u001b[0mm\u001b[0m\u001b[0;34m\u001b[0m\u001b[0;34m\u001b[0m\u001b[0m\n",
      "\u001b[0;31mValueError\u001b[0m: Sanitization error: Explicit valence for atom # 2 C, 5, is greater than permitted",
      "\nDuring handling of the above exception, another exception occurred:\n",
      "\u001b[0;31mKeyboardInterrupt\u001b[0m                         Traceback (most recent call last)",
      "\u001b[0;32m<ipython-input-188-52d3d93fbe3b>\u001b[0m in \u001b[0;36m<module>\u001b[0;34m\u001b[0m\n\u001b[1;32m      8\u001b[0m             \u001b[0;32mif\u001b[0m \u001b[0;32mnot\u001b[0m \u001b[0mmol\u001b[0m\u001b[0;34m:\u001b[0m\u001b[0;34m\u001b[0m\u001b[0;34m\u001b[0m\u001b[0m\n\u001b[1;32m      9\u001b[0m                 \u001b[0mmol\u001b[0m \u001b[0;34m=\u001b[0m \u001b[0mChem\u001b[0m\u001b[0;34m.\u001b[0m\u001b[0mMolFromSmiles\u001b[0m\u001b[0;34m(\u001b[0m\u001b[0msm\u001b[0m\u001b[0;34m,\u001b[0m \u001b[0msanitize\u001b[0m\u001b[0;34m=\u001b[0m\u001b[0;32mFalse\u001b[0m\u001b[0;34m)\u001b[0m\u001b[0;34m\u001b[0m\u001b[0;34m\u001b[0m\u001b[0m\n\u001b[0;32m---> 10\u001b[0;31m                 \u001b[0mrepaired_mol\u001b[0m \u001b[0;34m=\u001b[0m \u001b[0mcopy_edit_mols\u001b[0m\u001b[0;34m(\u001b[0m\u001b[0mmol\u001b[0m\u001b[0;34m,\u001b[0m \u001b[0;32mTrue\u001b[0m\u001b[0;34m)\u001b[0m\u001b[0;34m\u001b[0m\u001b[0;34m\u001b[0m\u001b[0m\n\u001b[0m\u001b[1;32m     11\u001b[0m                 \u001b[0;32mif\u001b[0m \u001b[0mrepaired_mol\u001b[0m\u001b[0;34m:\u001b[0m\u001b[0;34m\u001b[0m\u001b[0;34m\u001b[0m\u001b[0m\n\u001b[1;32m     12\u001b[0m                     \u001b[0msm\u001b[0m \u001b[0;34m=\u001b[0m \u001b[0mChem\u001b[0m\u001b[0;34m.\u001b[0m\u001b[0mMolToSmiles\u001b[0m\u001b[0;34m(\u001b[0m\u001b[0mrepaired_mol\u001b[0m\u001b[0;34m)\u001b[0m\u001b[0;34m\u001b[0m\u001b[0;34m\u001b[0m\u001b[0m\n",
      "\u001b[0;32m<ipython-input-162-43d96cf48fb3>\u001b[0m in \u001b[0;36mcopy_edit_mols\u001b[0;34m(mol, cp)\u001b[0m\n\u001b[1;32m      6\u001b[0m     \u001b[0;32melse\u001b[0m\u001b[0;34m:\u001b[0m\u001b[0;34m\u001b[0m\u001b[0;34m\u001b[0m\u001b[0m\n\u001b[1;32m      7\u001b[0m         \u001b[0mChem\u001b[0m\u001b[0;34m.\u001b[0m\u001b[0mrdmolops\u001b[0m\u001b[0;34m.\u001b[0m\u001b[0mCleanup\u001b[0m\u001b[0;34m(\u001b[0m\u001b[0mmol\u001b[0m\u001b[0;34m)\u001b[0m\u001b[0;34m\u001b[0m\u001b[0;34m\u001b[0m\u001b[0m\n\u001b[0;32m----> 8\u001b[0;31m         \u001b[0mmol\u001b[0m \u001b[0;34m=\u001b[0m \u001b[0msanifix\u001b[0m\u001b[0;34m.\u001b[0m\u001b[0mfix_mol\u001b[0m\u001b[0;34m(\u001b[0m\u001b[0mmol\u001b[0m\u001b[0;34m)\u001b[0m\u001b[0;34m\u001b[0m\u001b[0;34m\u001b[0m\u001b[0m\n\u001b[0m\u001b[1;32m      9\u001b[0m         \u001b[0;32mreturn\u001b[0m \u001b[0mmol\u001b[0m\u001b[0;34m\u001b[0m\u001b[0;34m\u001b[0m\u001b[0m\n\u001b[1;32m     10\u001b[0m \u001b[0;34m\u001b[0m\u001b[0m\n",
      "\u001b[0;32m~/Documents/Git/molga/molga/utils/sanifix.py\u001b[0m in \u001b[0;36mfix_mol\u001b[0;34m(m)\u001b[0m\n\u001b[1;32m    160\u001b[0m     \u001b[0;32mexcept\u001b[0m \u001b[0mValueError\u001b[0m\u001b[0;34m:\u001b[0m\u001b[0;34m\u001b[0m\u001b[0;34m\u001b[0m\u001b[0m\n\u001b[1;32m    161\u001b[0m         \u001b[0;32mfor\u001b[0m \u001b[0mi\u001b[0m \u001b[0;32min\u001b[0m \u001b[0mrange\u001b[0m\u001b[0;34m(\u001b[0m\u001b[0;36m2\u001b[0m\u001b[0;34m)\u001b[0m\u001b[0;34m:\u001b[0m\u001b[0;34m\u001b[0m\u001b[0;34m\u001b[0m\u001b[0m\n\u001b[0;32m--> 162\u001b[0;31m             \u001b[0mm\u001b[0m \u001b[0;34m=\u001b[0m \u001b[0mFixValence\u001b[0m\u001b[0;34m(\u001b[0m\u001b[0mm\u001b[0m\u001b[0;34m)\u001b[0m\u001b[0;34m\u001b[0m\u001b[0;34m\u001b[0m\u001b[0m\n\u001b[0m\u001b[1;32m    163\u001b[0m         \u001b[0mm\u001b[0m \u001b[0;34m=\u001b[0m \u001b[0madjust_singleton\u001b[0m\u001b[0;34m(\u001b[0m\u001b[0mm\u001b[0m\u001b[0;34m)\u001b[0m\u001b[0;34m\u001b[0m\u001b[0;34m\u001b[0m\u001b[0m\n\u001b[1;32m    164\u001b[0m         \u001b[0;32mif\u001b[0m \u001b[0mlen\u001b[0m\u001b[0;34m(\u001b[0m\u001b[0mChem\u001b[0m\u001b[0;34m.\u001b[0m\u001b[0mrdmolops\u001b[0m\u001b[0;34m.\u001b[0m\u001b[0mGetMolFrags\u001b[0m\u001b[0;34m(\u001b[0m\u001b[0mm\u001b[0m\u001b[0;34m)\u001b[0m\u001b[0;34m)\u001b[0m \u001b[0;34m>\u001b[0m \u001b[0;36m1\u001b[0m\u001b[0;34m:\u001b[0m\u001b[0;34m\u001b[0m\u001b[0;34m\u001b[0m\u001b[0m\n",
      "\u001b[0;32m~/Documents/Git/molga/molga/utils/sanifix.py\u001b[0m in \u001b[0;36mFixValence\u001b[0;34m(m)\u001b[0m\n\u001b[1;32m     75\u001b[0m     \u001b[0mm\u001b[0m \u001b[0;34m=\u001b[0m \u001b[0mChem\u001b[0m\u001b[0;34m.\u001b[0m\u001b[0mrdmolops\u001b[0m\u001b[0;34m.\u001b[0m\u001b[0mRemoveHs\u001b[0m\u001b[0;34m(\u001b[0m\u001b[0mm\u001b[0m\u001b[0;34m,\u001b[0m \u001b[0mimplicitOnly\u001b[0m\u001b[0;34m=\u001b[0m\u001b[0;32mFalse\u001b[0m\u001b[0;34m,\u001b[0m \u001b[0mupdateExplicitCount\u001b[0m\u001b[0;34m=\u001b[0m\u001b[0;32mTrue\u001b[0m\u001b[0;34m,\u001b[0m \u001b[0msanitize\u001b[0m\u001b[0;34m=\u001b[0m\u001b[0;32mFalse\u001b[0m\u001b[0;34m)\u001b[0m\u001b[0;34m\u001b[0m\u001b[0;34m\u001b[0m\u001b[0m\n\u001b[1;32m     76\u001b[0m     \u001b[0mem\u001b[0m \u001b[0;34m=\u001b[0m \u001b[0mChem\u001b[0m\u001b[0;34m.\u001b[0m\u001b[0mEditableMol\u001b[0m\u001b[0;34m(\u001b[0m\u001b[0mm\u001b[0m\u001b[0;34m)\u001b[0m\u001b[0;34m\u001b[0m\u001b[0;34m\u001b[0m\u001b[0m\n\u001b[0;32m---> 77\u001b[0;31m     \u001b[0;32mfor\u001b[0m \u001b[0mbond\u001b[0m \u001b[0;32min\u001b[0m \u001b[0mm\u001b[0m\u001b[0;34m.\u001b[0m\u001b[0mGetBonds\u001b[0m\u001b[0;34m(\u001b[0m\u001b[0;34m)\u001b[0m\u001b[0;34m:\u001b[0m\u001b[0;34m\u001b[0m\u001b[0;34m\u001b[0m\u001b[0m\n\u001b[0m\u001b[1;32m     78\u001b[0m         \u001b[0ma1\u001b[0m \u001b[0;34m=\u001b[0m \u001b[0mbond\u001b[0m\u001b[0;34m.\u001b[0m\u001b[0mGetBeginAtom\u001b[0m\u001b[0;34m(\u001b[0m\u001b[0;34m)\u001b[0m\u001b[0;34m\u001b[0m\u001b[0;34m\u001b[0m\u001b[0m\n\u001b[1;32m     79\u001b[0m         \u001b[0ma2\u001b[0m \u001b[0;34m=\u001b[0m \u001b[0mbond\u001b[0m\u001b[0;34m.\u001b[0m\u001b[0mGetEndAtom\u001b[0m\u001b[0;34m(\u001b[0m\u001b[0;34m)\u001b[0m\u001b[0;34m\u001b[0m\u001b[0;34m\u001b[0m\u001b[0m\n",
      "\u001b[0;31mKeyboardInterrupt\u001b[0m: "
     ]
    }
   ],
   "source": [
    "for s in seq:\n",
    "    with open(os.path.join(s, \"mols.txt\"), \"r\" ) as IN:\n",
    "        mols_1 = [x.strip() for x in IN]\n",
    "        new_sm = []\n",
    "        mols = []\n",
    "        for sm in mols_1:\n",
    "            mol = Chem.MolFromSmiles(sm, sanitize=True)\n",
    "            if not mol:\n",
    "                mol = Chem.MolFromSmiles(sm, sanitize=False) \n",
    "                repaired_mol = copy_edit_mols(mol, True)\n",
    "                if repaired_mol:\n",
    "                    sm = Chem.MolToSmiles(repaired_mol)\n",
    "                mol = Chem.MolFromSmiles(sm, sanitize=True)\n",
    "            new_sm.append(sm)\n",
    "            mols.append(mol)\n",
    "\n",
    "        val = MolMetrics.validity(mols)\n",
    "        prob = (val) / val.sum()\n",
    "        ind = np.random.choice(len(new_sm), 10000, p=prob) \n",
    "        new_sm  = np.asarray(new_sm)\n",
    "        mols = np.asarray(mols)\n",
    "        new_sm = new_sm[ind]\n",
    "        mols = mols[ind]\n",
    "        with open(os.path.join(s, \"fixed_mols2.txt\"), \"w\") as OUT:\n",
    "            OUT.writelines(new_sm)\n",
    "        f_mols = [x for x in mols if x is not None]\n",
    "        novelty = MolMetrics.novelty(f_mols, ref_smiles)\n",
    "        uniq = MolMetrics.uniqueness(f_mols)\n",
    "        val = MolMetrics.validity(mols)\n",
    "        print(s, novelty.mean(), uniq, val.mean())"
   ]
  },
  {
   "cell_type": "code",
   "execution_count": 179,
   "metadata": {},
   "outputs": [],
   "source": [
    "val = MolMetrics.validity(mols)\n"
   ]
  },
  {
   "cell_type": "code",
   "execution_count": 180,
   "metadata": {},
   "outputs": [
    {
     "data": {
      "text/plain": [
       "11489.880000000001"
      ]
     },
     "execution_count": 180,
     "metadata": {},
     "output_type": "execute_result"
    }
   ],
   "source": [
    "len(val)*0.23"
   ]
  },
  {
   "cell_type": "code",
   "execution_count": null,
   "metadata": {},
   "outputs": [],
   "source": []
  }
 ],
 "metadata": {
  "kernelspec": {
   "display_name": "Python 3",
   "language": "python",
   "name": "python3"
  },
  "language_info": {
   "codemirror_mode": {
    "name": "ipython",
    "version": 3
   },
   "file_extension": ".py",
   "mimetype": "text/x-python",
   "name": "python",
   "nbconvert_exporter": "python",
   "pygments_lexer": "ipython3",
   "version": "3.6.7"
  }
 },
 "nbformat": 4,
 "nbformat_minor": 2
}
