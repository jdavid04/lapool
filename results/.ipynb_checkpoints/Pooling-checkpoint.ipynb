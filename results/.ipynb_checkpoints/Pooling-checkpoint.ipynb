{
 "cells": [
  {
   "cell_type": "code",
   "execution_count": 20,
   "metadata": {},
   "outputs": [
    {
     "name": "stdout",
     "output_type": "stream",
     "text": [
      "The autoreload extension is already loaded. To reload it, use:\n",
      "  %reload_ext autoreload\n"
     ]
    }
   ],
   "source": [
    "%load_ext autoreload\n",
    "%autoreload 2\n",
    "import torch\n",
    "import pandas as pd\n",
    "import os\n",
    "import inspect\n",
    "import numpy as np\n",
    "import pickle\n",
    "\n",
    "from collections import defaultdict as ddict\n",
    "from functools import partial\n",
    "from matplotlib import pyplot as plt\n",
    "from IPython.display import display, SVG\n",
    "from pytoune.utils import torch_to_numpy\n",
    "from sklearn.metrics import jaccard_similarity_score as jaccard_score\n",
    "from torch.nn.functional import binary_cross_entropy\n",
    "from tqdm import tnrange, tqdm_notebook\n",
    "\n",
    "from rdkit import RDConfig\n",
    "from rdkit.Chem import FragmentCatalog, Fragments\n",
    "from rdkit.Chem.Draw import IPythonConsole\n",
    "from rdkit.Chem.Draw.MolDrawing import MolDrawing, DrawingOptions\n",
    "from rdkit.Chem import rdDepictor\n",
    "from rdkit.Chem.Draw import rdMolDraw2D\n",
    "\n",
    "from ivbase.utils.trainer import Trainer\n",
    "from ivbase.utils.commons import to_tensor\n",
    "\n",
    "from molga.explainer import get_explainer_cls\n",
    "from molga.utils.data import load_dataset, read_data, load_mol_to_fp_dataset, batch_generator_sup\n",
    "from molga.utils.rd_filters import RDFilters\n",
    "from molga.utils.nninspect.poolinspector import PoolingInspector\n",
    "from molga.generator.networks import Encoder\n",
    "from molga.pooler.laplacianpooling import LaplacianPool\n",
    "from molga.utils.sparsegen import Sparsegen, Sparsemax"
   ]
  },
  {
   "cell_type": "code",
   "execution_count": 21,
   "metadata": {},
   "outputs": [],
   "source": [
    "def mol2svg(mc, molSize=(300, 120), number=False, outfile=None, fragment=None, importance=[], legend=\"\"):\n",
    "    try:\n",
    "        mc = rdMolDraw2D.PrepareMolForDrawing(mc, kekulize=True)\n",
    "    except:\n",
    "        pass\n",
    "    drawer = rdMolDraw2D.MolDraw2DSVG(molSize[0], molSize[1])\n",
    "    drawer.SetFontSize(drawer.FontSize() * 0.8)\n",
    "    opts = drawer.drawOptions()\n",
    "    if number:\n",
    "        for i in range(mc.GetNumAtoms()):\n",
    "            opts.atomLabels[i] = mc.GetAtomWithIdx(i).GetSymbol() + str(i)\n",
    "    opts.padding = 0.1\n",
    "    opts.clearBackground = True\n",
    "    opts.setAtomPalette({-1: (0, 0, 0)})\n",
    "    colors = {}\n",
    "    for i in importance:\n",
    "        colors[i] = (0.6, 0.80, 0.33)\n",
    "        \n",
    "    if legend:\n",
    "        legend = \"score = {}\".format(legend)\n",
    "    drawer.DrawMolecule(mc, highlightAtoms=fragment, highlightAtomColors=colors, legend=legend)\n",
    "    drawer.FinishDrawing()\n",
    "    im = drawer.GetDrawingText().replace('svg:', '')\n",
    "    if outfile:\n",
    "        with open(outfile, \"w\") as OUT:\n",
    "            OUT.write(im)\n",
    "    return im\n",
    "\n",
    "def display_mol(mol, **kwargs):\n",
    "    if not kwargs:\n",
    "        display(mol)\n",
    "    else:\n",
    "        display(SVG(mol2svg(mol, **kwargs)))"
   ]
  },
  {
   "cell_type": "code",
   "execution_count": 22,
   "metadata": {},
   "outputs": [],
   "source": [
    "# load alert_list \n",
    "alert_names = [\"Glaxo\"]\n",
    "rf = RDFilters(\"../data/alert_collection.csv\")\n",
    "rf.build_rule_list(alert_names)  \n",
    "ALERTS = [x[0] for x in rf.rule_list]\n",
    "\n",
    "# load Functional\n",
    "fName = os.path.join(RDConfig.RDDataDir,'FunctionalGroups.txt')\n",
    "fparams = FragmentCatalog.FragCatParams(1,6,fName)\n",
    "FUNCTIONAL = [fparams.GetFuncGroup(k) for k in range(fparams.GetNumFuncGroups())]\n",
    "\n",
    "# load fragment\n",
    "FRAGMENTS = [inspect.getargspec(x[-1])[-1][-1] for x in Fragments.fns]"
   ]
  },
  {
   "cell_type": "code",
   "execution_count": 23,
   "metadata": {},
   "outputs": [],
   "source": [
    "# compute the importance of each atom, given the fragment\n",
    "def compute_importance(mol, fragment):\n",
    "    atom_importance = np.zeros(mol.GetNumAtoms())\n",
    "    matching = mol.GetSubstructMatches(fragment)\n",
    "    for m in matching:\n",
    "        for a in m:\n",
    "            atom_importance[a] = 1\n",
    "    return  atom_importance"
   ]
  },
  {
   "cell_type": "code",
   "execution_count": 24,
   "metadata": {},
   "outputs": [],
   "source": [
    "def load_file(input_path, file_type=\"csv\", start_y=6):\n",
    "    max_n = -1 \n",
    "    n_out = -1\n",
    "    X, y, *meta = read_data(input_path, n_out, format=file_type, max_n=max_n)\n",
    "    y = y[:, start_y:]\n",
    "    train_dt, valid_dt, test_dt = load_mol_to_fp_dataset(X, y, test_size=0.1,\n",
    "                                                         valid_size=0.1,\n",
    "                                                         shuffle=False, balance=False,\n",
    "                                                         with_bond=True, mol_filter=5)\n",
    "    return train_dt"
   ]
  },
  {
   "cell_type": "code",
   "execution_count": 25,
   "metadata": {},
   "outputs": [],
   "source": [
    "def get_explainer(model, explainer=\"smooth-integrated\", target_layer=None):\n",
    "    smooth = False\n",
    "    if explainer.startswith(\"smooth-\"):\n",
    "        smooth = True\n",
    "        explainer = explainer.strip(\"smooth-\")\n",
    "    \n",
    "    explainer_cls = get_explainer_cls(explainer)\n",
    "    if explainer == \"gradcam\":\n",
    "        if not target_layer:\n",
    "            target_layer = model.conv_layers1[0] # use first conv layer\n",
    "        explainer_cls = partial(explainer_cls, target_layer=target_layer, use_inp=True)\n",
    "    if smooth:\n",
    "        explainer = get_explainer_cls(\"smoothgrad\")(model, base_explainer=explainer_cls)\n",
    "    else:\n",
    "        explainer = explainer_cls(model)\n",
    "    return explainer"
   ]
  },
  {
   "cell_type": "code",
   "execution_count": 31,
   "metadata": {},
   "outputs": [],
   "source": [
    "train_dt = load_file(\"../data/dataset_alert.txt\")"
   ]
  },
  {
   "cell_type": "code",
   "execution_count": 32,
   "metadata": {},
   "outputs": [
    {
     "data": {
      "image/png": "[encoded data removed]",
      "text/plain": [
       "<rdkit.Chem.rdchem.Mol at 0x7f2679c03300>"
      ]
     },
     "metadata": {},
     "output_type": "display_data"
    },
    {
     "data": {
      "image/png": "[encoded data removed]",
      "text/plain": [
       "<rdkit.Chem.rdchem.Mol at 0x7f2679c03e90>"
      ]
     },
     "metadata": {},
     "output_type": "display_data"
    },
    {
     "data": {
      "image/png": "[encoded data removed]",
      "text/plain": [
       "<rdkit.Chem.rdchem.Mol at 0x7f267b103760>"
      ]
     },
     "metadata": {},
     "output_type": "display_data"
    },
    {
     "data": {
      "image/png": "[encoded data removed]",
      "text/plain": [
       "<rdkit.Chem.rdchem.Mol at 0x7f267ab7ee40>"
      ]
     },
     "metadata": {},
     "output_type": "display_data"
    },
    {
     "data": {
      "image/png": "[encoded data removed]",
      "text/plain": [
       "<rdkit.Chem.rdchem.Mol at 0x7f267abe3ad0>"
      ]
     },
     "metadata": {},
     "output_type": "display_data"
    }
   ],
   "source": [
    "# Test by drawing the 5 most frequent alert\n",
    "freq_alerts = train_dt.y.sum(0).argsort()[-5:]\n",
    "for x in freq_alerts:\n",
    "    display_mol(ALERTS[x])"
   ]
  },
  {
   "cell_type": "code",
   "execution_count": 33,
   "metadata": {},
   "outputs": [],
   "source": [
    "test_generator = partial(batch_generator_sup, infinite=False, shuffle=False, balance=False, with_mols=True)"
   ]
  },
  {
   "cell_type": "code",
   "execution_count": null,
   "metadata": {},
   "outputs": [],
   "source": [
    "# Might need to change some of this, if I get more inspiration\n",
    "def summarize_explanation(x):\n",
    "    # sum over node feature\n",
    "    x = x.sum(-1)\n",
    "    # min max normalization to 0,1:\n",
    "    normalized = (x-x.min())/(x.max()-x.min())\n",
    "    return torch_to_numpy(normalized.squeeze())\n",
    "\n",
    "def k_match(score, pred):\n",
    "    \"\"\"The higher this is, the better\"\"\"\n",
    "    tot_atoms = int(score.sum())\n",
    "    k_most_imp = np.argsort(pred)[-tot_atoms:]\n",
    "    pred_k_filtered = np.zeros_like(score)\n",
    "    pred_k_filtered[k_most_imp]= 1\n",
    "    return jaccard_score(score, pred_k_filtered), (pred_k_filtered*score).nonzero()[0].tolist()\n",
    "    \n",
    "def weighted_acc(score, pred):\n",
    "    \"\"\"If this is closer to one, its better\"\"\"\n",
    "    s = (score*pred) + (1-score)*(1-pred) \n",
    "    return s.mean(), ((s>0.5)*score).nonzero()[0].tolist()\n",
    "    \n",
    "def node_importance_score(score, pred, method=\"k-match\"):\n",
    "    score = np.asarray(score)\n",
    "    pred = np.asarray(pred).flatten()\n",
    "    if method == \"k-match\":\n",
    "        return k_match(score, pred)\n",
    "    else:\n",
    "        return weighted_acc(score, pred)\n",
    "    \n",
    "def compute_score(explainer, model, batch_data,  batch_labels=None, fraglist=[]):\n",
    "    adj, feat, mols = batch_data \n",
    "    batch_size = len(adj)\n",
    "    scores = []\n",
    "    with torch.no_grad():\n",
    "        pred = torch.sigmoid(model((adj, feat)))\n",
    "    frag_scores = ddict(dict)\n",
    "    for frag in fraglist:\n",
    "        ind, submol = frag\n",
    "        display_mol(submol)\n",
    "        for i in range(batch_size):\n",
    "            if batch_labels[i, ind] >0 and pred[i, ind] >= 0.5: # only consider true prediction that the model accurately predicted\n",
    "                importance = explainer.explain((adj[i], feat[i]), ind, grad_ind=1)\n",
    "                importance = torch_to_numpy(importance)\n",
    "                importance = summarize_explanation(importance)\n",
    "                truth = compute_importance(mols[i], submol)\n",
    "                frag_sc, filtered_importance = node_importance_score(truth, importance, \"k-match\") \n",
    "                frag_scores[i][ind] = frag_sc\n",
    "                display_mol(mols[i], molSize=(500, 300), fragment=truth.nonzero()[0].tolist(), importance=filtered_importance, number=True, legend=frag_sc)\n",
    "        print(\"\\n----------\")\n",
    "        \n",
    "        scores = [np.mean(list(frag_scores[i].values())) for i in range(batch_size)]\n",
    "    return scores"
   ]
  },
  {
   "cell_type": "code",
   "execution_count": null,
   "metadata": {
    "scrolled": true
   },
   "outputs": [
    {
     "data": {
      "image/png": "[encoded data removed]",
      "text/plain": [
       "<Figure size 432x288 with 1 Axes>"
      ]
     },
     "metadata": {},
     "output_type": "display_data"
    },
    {
     "data": {
      "image/png": "[encoded data removed]",
      "text/plain": [
       "<Figure size 1080x864 with 5 Axes>"
      ]
     },
     "metadata": {
      "needs_background": "light"
     },
     "output_type": "display_data"
    },
    {
     "name": "stdout",
     "output_type": "stream",
     "text": [
      "6367\n"
     ]
    }
   ],
   "source": [
    "# Example of how to run it\n",
    "explainer_name =  \"gradcam\"\n",
    "model = pickle.load(open(\"model_gcn_laplacian_0.pkl\", \"rb\"))\n",
    "if model.pool_layer is not None:\n",
    "    model.pool_layer.__dict__.update(alpha = 1)\n",
    "    model.pool_layer.attn_softmax = Sparsegen(dim=-1, sigma=0)\n",
    "plt.ioff()    \n",
    "model.set_inspector(True, show=False, freq=1, save_video=False, outdir=\"pooling\")\n",
    "with torch.no_grad():\n",
    "    print(len(train_dt))\n",
    "    for (x_batch, y_batch) in test_generator(train_dt):\n",
    "        a, x, m = x_batch\n",
    "        pred = torch.sigmoid(model((a,x), mols=m))\n",
    "    model.pool_inspect = None\n",
    "dt_length = np.ceil(len(train_dt) // 32)\n",
    "exit()\n",
    "xpl = get_explainer(model, explainer_name)\n",
    "test_fraglist = list(zip(freq_alerts, [ALERTS[x] for x in freq_alerts]))\n",
    "#with torch.no_grad():\n",
    "total_score = []\n",
    "for batch in tqdm_notebook(test_generator(train_dt), total=dt_length):\n",
    "    x_batch, y_batch = batch\n",
    "    s = compute_score(xpl, model, x_batch, batch_labels=y_batch, fraglist=test_fraglist)\n",
    "    total_score.extend(s)\n",
    "    print(\"\\n\\n=====================================================\")"
   ]
  },
  {
   "cell_type": "markdown",
   "metadata": {},
   "source": [
    "## TO DO:\n",
    "\n",
    "- plot the atoms importance on the molecules\n",
    "- review how importance is computed and which explainer is the best\n"
   ]
  },
  {
   "cell_type": "code",
   "execution_count": null,
   "metadata": {},
   "outputs": [],
   "source": []
  },
  {
   "cell_type": "code",
   "execution_count": null,
   "metadata": {},
   "outputs": [],
   "source": []
  }
 ],
 "metadata": {
  "kernelspec": {
   "display_name": "Python 3",
   "language": "python",
   "name": "python3"
  },
  "language_info": {
   "codemirror_mode": {
    "name": "ipython",
    "version": 3
   },
   "file_extension": ".py",
   "mimetype": "text/x-python",
   "name": "python",
   "nbconvert_exporter": "python",
   "pygments_lexer": "ipython3",
   "version": "3.6.7"
  }
 },
 "nbformat": 4,
 "nbformat_minor": 2
}
